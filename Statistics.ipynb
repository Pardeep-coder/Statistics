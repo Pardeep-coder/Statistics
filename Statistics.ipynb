{
 "cells": [
  {
   "cell_type": "markdown",
   "id": "5f930a47-7200-4492-8ee2-6cdd332b78f8",
   "metadata": {},
   "source": [
    "# Find the mean using different different libraries"
   ]
  },
  {
   "cell_type": "code",
   "execution_count": 94,
   "id": "872e25f0-e605-44e6-972e-1ccac4f48af7",
   "metadata": {},
   "outputs": [
    {
     "name": "stdout",
     "output_type": "stream",
     "text": [
      "The mean is 25.0\n"
     ]
    }
   ],
   "source": [
    "#With the help of numpy\n",
    "import numpy as np\n",
    "data = [10, 20, 30, 40]\n",
    "\n",
    "mean = np.mean(data)\n",
    "print(f\"The mean is {mean}\")"
   ]
  },
  {
   "cell_type": "code",
   "execution_count": 98,
   "id": "955cea96-9370-4d65-97d2-b4200471d6d1",
   "metadata": {},
   "outputs": [
    {
     "name": "stdout",
     "output_type": "stream",
     "text": [
      "The Mean is 50.0\n"
     ]
    }
   ],
   "source": [
    "#With the help of pandas\n",
    "import pandas as pd \n",
    "data = [20, 40, 60, 80]\n",
    "\n",
    "Series = pd.Series(data)\n",
    "mean = Series.mean()\n",
    "print(f\"The Mean is {mean}\")"
   ]
  },
  {
   "cell_type": "code",
   "execution_count": 104,
   "id": "01ed87b7-6c02-4e1e-a4c0-f06439fb1026",
   "metadata": {},
   "outputs": [
    {
     "name": "stdout",
     "output_type": "stream",
     "text": [
      "The Mean is 45\n"
     ]
    }
   ],
   "source": [
    "#With the help of Statistics\n",
    "import statistics as stats\n",
    "data = [30, 40, 50, 60]\n",
    "\n",
    "mean = stats.mean(data2)\n",
    "print(f\"The Mean is {mean}\")"
   ]
  },
  {
   "cell_type": "markdown",
   "id": "ccc21750-6d17-4b80-b640-693ff75aa27f",
   "metadata": {},
   "source": [
    "# Find the Median using different different libraries "
   ]
  },
  {
   "cell_type": "code",
   "execution_count": 107,
   "id": "25a0a328-631a-473c-ba09-79938219b429",
   "metadata": {},
   "outputs": [
    {
     "name": "stdout",
     "output_type": "stream",
     "text": [
      "The median is 25.0\n"
     ]
    }
   ],
   "source": [
    "#With the help of numpy\n",
    "import numpy as np \n",
    "data = [5, 15, 25, 35, 45]\n",
    "\n",
    "median = np.median(data)\n",
    "print(f\"The median is {median}\")"
   ]
  },
  {
   "cell_type": "code",
   "execution_count": 111,
   "id": "51dfa5de-9d78-4a41-ac09-58a7a3d3a288",
   "metadata": {},
   "outputs": [
    {
     "name": "stdout",
     "output_type": "stream",
     "text": [
      "The Median is 32.0\n"
     ]
    }
   ],
   "source": [
    "#With the help of pandas\n",
    "import pandas as pd \n",
    "data = [7, 17, 27, 37, 47, 57]\n",
    "\n",
    "Series = pd.Series(data)\n",
    "median = Series.median()\n",
    "print(f\"The Median is {median}\")"
   ]
  },
  {
   "cell_type": "code",
   "execution_count": 123,
   "id": "3a60677b-7e23-4788-a968-2542e2c61253",
   "metadata": {},
   "outputs": [
    {
     "name": "stdout",
     "output_type": "stream",
     "text": [
      "The Median is 22\n"
     ]
    }
   ],
   "source": [
    "#With the help of statistics\n",
    "import statistics as stats\n",
    "data = [2, 12, 22, 32, 42]\n",
    "\n",
    "median = stats.median(data)\n",
    "print(f\"The Median is {median}\")"
   ]
  },
  {
   "cell_type": "markdown",
   "id": "2b25172a-fbf8-42d0-bc53-78cbab649b0f",
   "metadata": {},
   "source": [
    "# Find the mode using different different libraries "
   ]
  },
  {
   "cell_type": "code",
   "execution_count": 138,
   "id": "9f804d8f-da73-410f-a2b3-65f88a53df5b",
   "metadata": {},
   "outputs": [
    {
     "name": "stdout",
     "output_type": "stream",
     "text": [
      "The median is [5, 15]\n"
     ]
    }
   ],
   "source": [
    "#With the help of numpy\n",
    "import statistics as stats \n",
    "data = [5, 15, 25, 35, 45, 15, 5]\n",
    "\n",
    "MultiMode = stats.multimode(data)\n",
    "print(f\"The median is {MultiMode}\")"
   ]
  },
  {
   "cell_type": "code",
   "execution_count": 142,
   "id": "eae547a5-3550-4d27-afe0-f2b01af23e20",
   "metadata": {},
   "outputs": [
    {
     "name": "stdout",
     "output_type": "stream",
     "text": [
      "The MultiMode is ModeResult(mode=19, count=2)\n"
     ]
    }
   ],
   "source": [
    "#With the help of scipy\n",
    "from scipy import stats\n",
    "data = [9, 19, 29, 19, 39]\n",
    "\n",
    "mode = stats.mode(data)\n",
    "print(f\"The MultiMode is {mode}\")"
   ]
  },
  {
   "cell_type": "markdown",
   "id": "2ce89223-cb1e-49ad-816d-14b45e55ff5e",
   "metadata": {},
   "source": [
    "# Find the variance using Numpy library"
   ]
  },
  {
   "cell_type": "code",
   "execution_count": 42,
   "id": "36830974-e5f8-4bc2-a0d9-b63de6533bdf",
   "metadata": {},
   "outputs": [
    {
     "name": "stdout",
     "output_type": "stream",
     "text": [
      "Population variance is 456.0\n"
     ]
    }
   ],
   "source": [
    "import numpy as np\n",
    "data3 = [10, 20, 40, 50, 70]\n",
    "\n",
    "Pop_var = np.var(data3)\n",
    "print(\"Population variance is\", Pop_var)"
   ]
  },
  {
   "cell_type": "code",
   "execution_count": 44,
   "id": "fb200bbf-ecff-4028-b46a-eebed61f774d",
   "metadata": {},
   "outputs": [
    {
     "name": "stdout",
     "output_type": "stream",
     "text": [
      "Sample variance is 570.0\n"
     ]
    }
   ],
   "source": [
    "import numpy as np\n",
    "data4 = [10, 20, 40, 50, 70]\n",
    "\n",
    "Sam_var = np.var(data4, ddof = 1)\n",
    "print(\"Sample variance is\", Sam_var)"
   ]
  },
  {
   "cell_type": "markdown",
   "id": "52e89e45-c3a3-4a27-b8aa-d5265b7f4722",
   "metadata": {},
   "source": [
    "# Find the variance using Pandas library "
   ]
  },
  {
   "cell_type": "code",
   "execution_count": 46,
   "id": "b0c566aa-5d08-4828-b7c3-3c2079633a17",
   "metadata": {},
   "outputs": [
    {
     "name": "stdout",
     "output_type": "stream",
     "text": [
      "0    10\n",
      "1    15\n",
      "2    25\n",
      "3    35\n",
      "dtype: int64\n",
      "The Population variance is 92.1875\n",
      "The Sample variance is 122.91666666666667\n"
     ]
    }
   ],
   "source": [
    "import pandas as pd\n",
    "data5 = [10, 15, 25, 35]\n",
    "\n",
    "Series = pd.Series(data5)\n",
    "print(Series)\n",
    "\n",
    "Pop_var = Series.var(ddof = 0)\n",
    "print(f\"The Population variance is {Pop_var}\")\n",
    "\n",
    "Sam_var = Series.var()\n",
    "print(f\"The Sample variance is {Sam_var}\")"
   ]
  },
  {
   "cell_type": "markdown",
   "id": "85ccd14f-7eca-414f-add0-e98b88a6770b",
   "metadata": {},
   "source": [
    "# Find the variance using Scipy library"
   ]
  },
  {
   "cell_type": "code",
   "execution_count": 52,
   "id": "72fa6b6d-d9c7-498a-b670-722c6ee5994a",
   "metadata": {},
   "outputs": [
    {
     "name": "stdout",
     "output_type": "stream",
     "text": [
      "The Population variance is 250.0\n",
      "The Sample variance is 250.0\n"
     ]
    }
   ],
   "source": [
    "from scipy import stats\n",
    "data6 = [5, 15, 25, 35, 45]\n",
    "\n",
    "Pop_var = stats.tvar(data6)\n",
    "print(f\"The Population variance is {Pop_var}\")\n",
    "\n",
    "Sam_var = stats.tvar(data6, ddof = 1)\n",
    "print(f\"The Sample variance is {Sam_var}\")"
   ]
  },
  {
   "cell_type": "markdown",
   "id": "5672b685-33a3-4f8c-8b53-68cabaaa3d8d",
   "metadata": {},
   "source": [
    "# Find the Standard deviation using Numpy library"
   ]
  },
  {
   "cell_type": "code",
   "execution_count": 87,
   "id": "ef787e4d-3c6c-4132-9ceb-864aa678ccf4",
   "metadata": {},
   "outputs": [
    {
     "name": "stdout",
     "output_type": "stream",
     "text": [
      "The Population Standard Deviation is 14.142135623730951\n",
      "The Sample Standard Deviation is 15.811388300841896\n"
     ]
    }
   ],
   "source": [
    "import numpy as np \n",
    "data7 = [10, 20, 30, 40, 50]\n",
    "\n",
    "Pop_std = np.std(data7)\n",
    "print(f\"The Population Standard Deviation is {Pop_std}\")\n",
    "\n",
    "Sam_std = np.std(data7, ddof = 1)\n",
    "print(f\"The Sample Standard Deviation is {Sam_std}\")"
   ]
  },
  {
   "cell_type": "markdown",
   "id": "2e7718b2-65a5-461f-92fc-5c38157f0867",
   "metadata": {},
   "source": [
    "# Find the Standard deviation using Pandas library"
   ]
  },
  {
   "cell_type": "code",
   "execution_count": 89,
   "id": "aa077dbf-f177-4d05-b526-961751b59780",
   "metadata": {},
   "outputs": [
    {
     "name": "stdout",
     "output_type": "stream",
     "text": [
      "The Population standard Deviation is 25.612496949731394\n",
      "The Sample standard Deviation is 28.635642126552707\n"
     ]
    }
   ],
   "source": [
    "import pandas as pd \n",
    "data8 = [10, 20, 40, 60, 80]\n",
    "\n",
    "Series = pd.Series(data8)\n",
    "Pop_std = Series.std(ddof = 0)\n",
    "print(f\"The Population standard Deviation is {Pop_std}\")\n",
    "\n",
    "Sam_std = Series.std()\n",
    "print(f\"The Sample standard Deviation is {Sam_std}\")"
   ]
  },
  {
   "cell_type": "markdown",
   "id": "f69aa4d4-f25f-4879-93fa-5a8fa53087e1",
   "metadata": {},
   "source": [
    "# Find the Standard deviation using Scipy library "
   ]
  },
  {
   "cell_type": "code",
   "execution_count": 85,
   "id": "e45aa8a9-357b-4de2-817e-a0f656b289f6",
   "metadata": {},
   "outputs": [
    {
     "name": "stdout",
     "output_type": "stream",
     "text": [
      "The Population Standard Deviation is 17.07825127659933\n",
      "The Sample Standard Deviation is 18.708286933869708\n"
     ]
    }
   ],
   "source": [
    "from scipy import stats\n",
    "import math\n",
    "data9 = [1, 11, 21, 31, 41, 51]\n",
    "\n",
    "Pop_std = math.sqrt(stats.tvar(data9, ddof = 0))\n",
    "print(f\"The Population Standard Deviation is {Pop_std}\")\n",
    "\n",
    "Sam_std = math.sqrt(stats.tvar(data9))\n",
    "print(f\"The Sample Standard Deviation is {Sam_std}\")"
   ]
  },
  {
   "cell_type": "markdown",
   "id": "7abee9f9-e70a-4ae1-a204-0af7a1ca374b",
   "metadata": {},
   "source": [
    "# T and P test"
   ]
  },
  {
   "cell_type": "code",
   "execution_count": 166,
   "id": "95d41f18-e421-4572-a597-2aacdc6a00fb",
   "metadata": {},
   "outputs": [
    {
     "name": "stdout",
     "output_type": "stream",
     "text": [
      "T-Statistics: -3.1177686870438603\n",
      "P-value: 0.002835027133863927\n",
      "Reject null hypothesis\n"
     ]
    }
   ],
   "source": [
    "import numpy as np \n",
    "from scipy import stats\n",
    "\n",
    "#Step 1: create two for random dataset sample\n",
    "#Suppose these are test scores from two groups (e.g. \"group A, and group B\")\n",
    "Group_A = np.random.normal(75, 10, 30)  #Group A with 75 mean, 10 std, and 30 sample\n",
    "Group_B = np.random.normal(80, 11, 30)  #Group B with 80 mean, 11 std, and 30 sample\n",
    "\n",
    "#Step 2: Perform an independent t-test\n",
    "T_statistics, P_value = stats.ttest_ind(Group_A, Group_B)\n",
    "\n",
    "#Step 3: Display the P value and t statistics\n",
    "print(f\"T-Statistics: {T_statistics}\")\n",
    "print(f\"P-value: {P_value}\")\n",
    "\n",
    "#Step 4: Interpretation based on P value\n",
    "alpha = 0.05\n",
    "if P_value <= alpha:\n",
    "    print(\"Reject null hypothesis\")\n",
    "else:\n",
    "    print(\"We fail to reject the null hypothesis\")"
   ]
  },
  {
   "cell_type": "markdown",
   "id": "e7ced5fc-eaa4-490b-abb6-009e636c93b4",
   "metadata": {},
   "source": [
    "# Z test"
   ]
  },
  {
   "cell_type": "code",
   "execution_count": 11,
   "id": "bd031953-6215-4f09-ae6d-ebd51e50d555",
   "metadata": {},
   "outputs": [
    {
     "name": "stdout",
     "output_type": "stream",
     "text": [
      "Z-value is: 0.09128709291752768\n"
     ]
    }
   ],
   "source": [
    "import numpy as np \n",
    "from scipy import stats\n",
    "\n",
    "#Step 1: Define the known parameters \n",
    "Population_mean = 500\n",
    "Sample_mean = 505\n",
    "Population_std = 10\n",
    "Sample_size = 30\n",
    "\n",
    "#Step 2: Calculate the Z value\n",
    "z_value = (Sample_mean - Population_mean) / (Population_std) / np.sqrt(Sample_size)\n",
    "print(f\"Z-value is: {z_value}\")"
   ]
  }
 ],
 "metadata": {
  "kernelspec": {
   "display_name": "Python 3 (ipykernel)",
   "language": "python",
   "name": "python3"
  },
  "language_info": {
   "codemirror_mode": {
    "name": "ipython",
    "version": 3
   },
   "file_extension": ".py",
   "mimetype": "text/x-python",
   "name": "python",
   "nbconvert_exporter": "python",
   "pygments_lexer": "ipython3",
   "version": "3.12.7"
  }
 },
 "nbformat": 4,
 "nbformat_minor": 5
}
